{
 "cells": [
  {
   "cell_type": "code",
   "execution_count": 2,
   "id": "449b2436",
   "metadata": {},
   "outputs": [],
   "source": [
    "import sqlite3"
   ]
  },
  {
   "cell_type": "code",
   "execution_count": 3,
   "id": "75b1ea2b",
   "metadata": {},
   "outputs": [],
   "source": [
    "laundry_mat_data = [\n",
    "    {\n",
    "        \"product\": \"Detergent\",\n",
    "        \"dollar_price_per_unit\": 4.5,\n",
    "        \"quantity\": 100,\n",
    "        \"total_cost\": 200,\n",
    "    },\n",
    "    {\n",
    "        \"product\": \"Dryer Sheets Box\",\n",
    "        \"dollar_price_per_unit\": 3.5,\n",
    "        \"quantity\": 100,\n",
    "        \"total_cost\": 350,\n",
    "    },\n",
    "    {\n",
    "        \"product\": \"Washing Machine\",\n",
    "        \"dollar_price_per_unit\": 400,\n",
    "        \"quantity\": 25,\n",
    "        \"total_cost\": 10000,\n",
    "    },\n",
    "    {\n",
    "        \"product\": \"Dryer\",\n",
    "        \"dollar_price_per_unit\": 400,\n",
    "        \"quantity\": 25,\n",
    "        \"total_cost\": 10000,\n",
    "    },\n",
    "]"
   ]
  },
  {
   "cell_type": "code",
   "execution_count": 5,
   "id": "79fca30c",
   "metadata": {},
   "outputs": [],
   "source": [
    "conn = sqlite3.connect(\"laudnry_mat.db\")\n",
    "cursor = conn.cursor()"
   ]
  },
  {
   "cell_type": "code",
   "execution_count": 6,
   "id": "ffb5d418",
   "metadata": {},
   "outputs": [
    {
     "data": {
      "text/plain": [
       "<sqlite3.Cursor at 0x7fbfe10f1ec0>"
      ]
     },
     "execution_count": 6,
     "metadata": {},
     "output_type": "execute_result"
    }
   ],
   "source": [
    "cursor.execute(\"\"\"\n",
    "CREATE TABLE IF NOT EXISTS laundry_mat (\n",
    "    id INTEGER PRIMARY KEY AUTOINCREMENT,\n",
    "    product TEXT NOT NULL,\n",
    "    dollar_price_per_unit REAL NOT NULL,\n",
    "    quantity INTEGER NOT NULL,\n",
    "    total_cost REAL NOT NULL\n",
    ")\n",
    "\"\"\")"
   ]
  },
  {
   "cell_type": "code",
   "execution_count": 7,
   "id": "7ec90c38",
   "metadata": {},
   "outputs": [
    {
     "data": {
      "text/plain": [
       "<sqlite3.Cursor at 0x7fbfe10f1ec0>"
      ]
     },
     "execution_count": 7,
     "metadata": {},
     "output_type": "execute_result"
    }
   ],
   "source": [
    "cursor.execute(\"DELETE FROM laundry_mat\")"
   ]
  },
  {
   "cell_type": "code",
   "execution_count": 9,
   "id": "e459b735",
   "metadata": {},
   "outputs": [],
   "source": [
    "for record in laundry_mat_data:\n",
    "    cursor.execute(\"\"\"\n",
    "    INSERT INTO laundry_mat\n",
    "        (product, dollar_price_per_unit, quantity, total_cost)\n",
    "    VALUES\n",
    "        (?, ?, ?, ?)\"\"\",\n",
    "    (record[\"product\"], record[\"dollar_price_per_unit\"], record[\"quantity\"], record[\"total_cost\"])\n",
    ")"
   ]
  },
  {
   "cell_type": "code",
   "execution_count": 11,
   "id": "56c324de",
   "metadata": {},
   "outputs": [],
   "source": [
    "for record in laundry_mat_data:\n",
    "    cursor.execute(\"\"\"\n",
    "        INSERT OR IGNORE INTO laundry_mat\n",
    "            (product, dollar_price_per_unit, quantity, total_cost)\n",
    "        VALUES (?, ?, ?, ?)\n",
    "        \"\"\",\n",
    "        (record[\"product\"], record[\"dollar_price_per_unit\"], record[\"quantity\"], record[\"total_cost\"])\n",
    "    )"
   ]
  },
  {
   "cell_type": "code",
   "execution_count": null,
   "id": "b6dab7c8",
   "metadata": {},
   "outputs": [],
   "source": []
  }
 ],
 "metadata": {
  "kernelspec": {
   "display_name": "pipelines-NLSLlhJe",
   "language": "python",
   "name": "python3"
  },
  "language_info": {
   "codemirror_mode": {
    "name": "ipython",
    "version": 3
   },
   "file_extension": ".py",
   "mimetype": "text/x-python",
   "name": "python",
   "nbconvert_exporter": "python",
   "pygments_lexer": "ipython3",
   "version": "3.12.11"
  }
 },
 "nbformat": 4,
 "nbformat_minor": 5
}
